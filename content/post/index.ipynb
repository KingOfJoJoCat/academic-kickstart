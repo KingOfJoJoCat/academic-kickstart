{
 "cells": [
  {
   "cell_type": "markdown",
   "metadata": {},
   "source": [
    "a.Divide the dataset as development and test."
   ]
  },
  {
   "cell_type": "code",
   "execution_count": 12,
   "metadata": {},
   "outputs": [],
   "source": [
    "#check_out is used to check file in kaggle\n",
    "#from subprocess import check_output\n",
    "import pandas as pd\n",
    "import numpy as np\n",
    "from sklearn.model_selection import train_test_split\n",
    "import copy\n",
    "import matplotlib.pyplot as plt\n",
    "import matplotlib"
   ]
  },
  {
   "cell_type": "code",
   "execution_count": 13,
   "metadata": {
    "_cell_guid": "b1076dfc-b9ad-4769-8c92-a6c4dae69d19",
    "_uuid": "8f2839f25d086af736a60e9eeb907d3b93b6e0e5"
   },
   "outputs": [],
   "source": [
    "x = []\n",
    "y = []\n",
    "datas = []\n",
    "x_develop, x_test, y_develop, y_test =[],[],[],[]\n",
    "#check the file in kaggle\n",
    "#print(check_output([\"ls\",\"../input\"]).decode(\"utf8\"))\n",
    "with open('../input/dataset/iris.data', 'r') as f:\n",
    "    data = f.read().splitlines()\n",
    "    \n",
    "data = data[:-1]    \n",
    "    \n",
    "for doc in data:\n",
    "    doc = doc.split(\",\")\n",
    "    datas.append(doc)\n",
    "    df = pd.DataFrame(datas, columns=[\n",
    "                        'sl', 'sw', 'pl', 'pw', 'label'])\n",
    "\n",
    "x = df.values[:,:-1]\n",
    "y = df.values[:,-1]\n",
    "\n",
    "#convert the str element in x to float type \n",
    "#to do calculations later\n",
    "for i in range(len(x)):\n",
    "    for j in range(len(x[0])):\n",
    "        x[i][j]=float(x[i][j])\n",
    "    \n",
    "\n",
    "#print(x)\n",
    "#print(y)\n",
    "\n",
    "#divide the dataset into develop set and test set randomly, and we set test_size=0.2 to let the size of test in a suitable range\n",
    "x_develop, x_test, y_develop, y_test = train_test_split(x,y,test_size=0.2, random_state=50)\n",
    "\n",
    "\n",
    "#print(x_develop)\n",
    "#print(x_test)\n",
    "#print(y_test)\n",
    "\n"
   ]
  },
  {
   "cell_type": "markdown",
   "metadata": {},
   "source": [
    "b.implement kNN using the following hyperparameters\n",
    "k from 1 to 20\n",
    "\n",
    "euclidean distance\n",
    "\n",
    "normalized euclidean distance\n",
    "\n",
    "cosine similarity"
   ]
  },
  {
   "cell_type": "markdown",
   "metadata": {},
   "source": [
    "c.After my thinking, I decided to create three functions to calculate there types of distance, and find the accuracy of each function at many k values. Currently, I assume the value of k is 1 ~ 20. So the number of all cases is 60. After getting the accuracy of all cases, I will plot them and compare them to get the optimal solution."
   ]
  },
  {
   "cell_type": "markdown",
   "metadata": {},
   "source": [
    "def the eucliden distance function"
   ]
  },
  {
   "cell_type": "code",
   "execution_count": 14,
   "metadata": {
    "_cell_guid": "79c7e3d0-c299-4dcb-8224-4455121ee9b0",
    "_uuid": "d629ff2d2480ee46fbb7e2d37f6b5fab8052498a"
   },
   "outputs": [
    {
     "name": "stdout",
     "output_type": "stream",
     "text": [
      "[7.2 3.2 6.0 1.8]\n",
      "[5.1 2.5 3.0 1.1]\n",
      "3.793415347678132\n"
     ]
    }
   ],
   "source": [
    "#get the euclidean distance from two data\n",
    "def e_dist(data1,data2):\n",
    "    dist = 0\n",
    "    data3 = data2-data1\n",
    "    #print(data3)\n",
    "    dist = np.sqrt(np.sum(np.square(data1-data2)))           \n",
    "    return dist\n",
    "\n",
    "print(x_develop[0])\n",
    "print(x_develop[1])\n",
    "print(e_dist(x_develop[0],x_develop[1]))\n"
   ]
  },
  {
   "cell_type": "markdown",
   "metadata": {},
   "source": [
    "def the normalized eucliden distance function"
   ]
  },
  {
   "cell_type": "code",
   "execution_count": 15,
   "metadata": {},
   "outputs": [
    {
     "name": "stdout",
     "output_type": "stream",
     "text": [
      "[0.6761659722222223, 0.18511041666666678, 3.067832638888887, 0.5713826388888888]\n",
      "[7.2 3.2 6.0 1.8]\n",
      "[5.1 2.5 3.0 1.1]\n",
      "3.6000516975942887\n"
     ]
    }
   ],
   "source": [
    "#get the normalized euclidean distance from two data--copyright belong to Yipu Qin \n",
    "x_var=[]\n",
    "for i in range(len(x_develop[0])):\n",
    "               x_var.append(np.var(x_develop[:,i]))\n",
    "    \n",
    "print(x_var)\n",
    "\n",
    "def n_e_dist(data1,data2):\n",
    "    dist = 0\n",
    "    data3 = np.square(data1-data2)\n",
    "    dist = np.sqrt(np.sum(data3/x_var))           \n",
    "    return dist\n",
    "\n",
    "print(x_develop[0])\n",
    "print(x_develop[1])\n",
    "print(n_e_dist(x_develop[0],x_develop[1]))\n",
    "\n",
    "    "
   ]
  },
  {
   "cell_type": "markdown",
   "metadata": {},
   "source": [
    "def the function to get the cosine similarity"
   ]
  },
  {
   "cell_type": "code",
   "execution_count": 16,
   "metadata": {},
   "outputs": [
    {
     "name": "stdout",
     "output_type": "stream",
     "text": [
      "[7.2 3.2 6.0 1.8]\n",
      "[4.6 3.1 1.5 0.2]\n",
      "0.9931574110151159\n"
     ]
    }
   ],
   "source": [
    "#get the cosine similarity from two data, copyright belongs to Yipu Qin\n",
    "def cos_dist(data1,data2):\n",
    "    dist=0\n",
    "    x=data1\n",
    "    y=data2\n",
    "    res = np.array([[x[i] * y[i], x[i] * x[i], y[i] * y[i]] for i in range(len(x))])\n",
    "    cos = sum(res[:, 0]) / (np.sqrt(sum(res[:, 1])) * np.sqrt(sum(res[:, 2])))\n",
    "    return 0.5*cos + 0.5 # let the range of value of result become [0,1] from [-1,1]\n",
    "\n",
    "print(x_develop[0])\n",
    "print(x_develop[5])\n",
    "print(cos_dist(x_develop[0],x_develop[1]))\n",
    "\n"
   ]
  },
  {
   "cell_type": "markdown",
   "metadata": {},
   "source": [
    "def the function to get the result of input data depend on the value of k and the input data and input dataset and the type of value"
   ]
  },
  {
   "cell_type": "code",
   "execution_count": 17,
   "metadata": {},
   "outputs": [
    {
     "name": "stdout",
     "output_type": "stream",
     "text": [
      "[7.2 3.2 6.0 1.8]\n",
      "Iris-virginica\n",
      "Iris-virginica\n"
     ]
    }
   ],
   "source": [
    "#bubblesort x[] and y[] but just depend on the elements in x[]\n",
    "def bubbleSort_xy(x,y):\n",
    "    for i in range(len(x) - 1):\n",
    "        for j in range(len(x) - i - 1): \n",
    "            if x[j] > x[j+1]:\n",
    "                x[j], x[j+1] = x[j+1], x[j]\n",
    "                y[j], y[j+1] = y[j+1], y[j]\n",
    "    return x,y\n",
    "\n",
    "#the function to get result of input from x_set, copyright belongs to Yipu Qin\n",
    "def get_result(input, x_set, y_set, k, method):\n",
    "    x_test = input\n",
    "    #store the distance between x_test and x_set[i]\n",
    "    dist = []\n",
    "    #print(x_set)\n",
    "    #method = 1, use the euclidean distance\n",
    "    if method == 1 :\n",
    "        for i in range(len(x_set)):\n",
    "            dist.append(e_dist(x_test,x_set[i]))\n",
    "            #print(e_dist(x_test,x_set[i]))\n",
    "        #print(dist)\n",
    "        #print(y_set)\n",
    "        dist_order = copy.deepcopy(dist)\n",
    "        y_order = copy.deepcopy(y_set)\n",
    "        bubbleSort_xy(dist_order,y_order)\n",
    "        #print(dist_order)\n",
    "        #print(y_order)\n",
    "        y_k = y_order[:k]# store the k smallest(nearest depend on x_develop[]) labels from y_order\n",
    "        #print(y_k)\n",
    "        y_k_count = []# y_k_count store the time that the y_k[i] happen in y_k, copyright belong to Yipu Qin \n",
    "        for label in y_k:\n",
    "            count = 0\n",
    "            for i in range(len(y_k)):\n",
    "                if(label==y_k[i]):\n",
    "                    count = count + 1\n",
    "            y_k_count.append(count)\n",
    "        #print(y_k_count)\n",
    "        max_index = y_k_count.index(max(y_k_count))\n",
    "        result = y_k[max_index]\n",
    "        return result\n",
    "    #if method = 2, use the normalized euclidean distance    \n",
    "    elif method == 2:\n",
    "        for i in range(len(x_set)):\n",
    "            dist.append(n_e_dist(x_test,x_set[i]))\n",
    "            #print(e_dist(x_test,x_set[i]))\n",
    "        #print(dist)\n",
    "        #print(y_set)\n",
    "        dist_order = copy.deepcopy(dist)\n",
    "        y_order = copy.deepcopy(y_set)\n",
    "        bubbleSort_xy(dist_order,y_order)\n",
    "        #print(dist_order)\n",
    "        #print(y_order)\n",
    "        y_k = y_order[:k]# store the k smallest(nearest depend on x_develop[]) labels from y_order\n",
    "        #print(y_k)\n",
    "        y_k_count = []# y_k_count store the time that the y_k[i] happen in y_k, copyright belong to Yipu Qin \n",
    "        for label in y_k:\n",
    "            count = 0\n",
    "            for i in range(len(y_k)):\n",
    "                if(label==y_k[i]):\n",
    "                    count = count + 1\n",
    "            y_k_count.append(count)\n",
    "        #print(y_k_count)\n",
    "        max_index = y_k_count.index(max(y_k_count))\n",
    "        result = y_k[max_index]\n",
    "        return result\n",
    "    #use the cosine similirity\n",
    "    else :\n",
    "        for i in range(len(x_set)):\n",
    "            dist.append(cos_dist(x_test,x_set[i]))\n",
    "            #print(e_dist(x_test,x_set[i]))\n",
    "        #print(dist)\n",
    "        #print(y_set)\n",
    "        dist_order = copy.deepcopy(dist)\n",
    "        y_order = copy.deepcopy(y_set)\n",
    "        bubbleSort_xy(dist_order,y_order)\n",
    "        #print(dist_order)\n",
    "        #print(y_order)\n",
    "        y_k = y_order[-k:]# store the k smallest(nearest depend on x_develop[]) labels from y_order\n",
    "        #print(y_k)\n",
    "        y_k_count = []# y_k_count store the time that the y_k[i] happen in y_k, copyright belong to Yipu Qin \n",
    "        for label in y_k:\n",
    "            count = 0\n",
    "            for i in range(len(y_k)):\n",
    "                if(label==y_k[i]):\n",
    "                    count = count + 1\n",
    "            y_k_count.append(count)\n",
    "        #print(y_k_count)\n",
    "        max_index = y_k_count.index(max(y_k_count))\n",
    "        result = y_k[max_index]\n",
    "        return result\n",
    "        \n",
    "        \n",
    "    \n",
    "num=0\n",
    "print(x_develop[num])\n",
    "print(y_develop[num])\n",
    "x_develop_cal = copy.deepcopy(x_develop) # use to calculate\n",
    "y_develop_cal = copy.deepcopy(y_develop) # use to calculate\n",
    "for i in range(num + 1, len(x_develop_cal)):\n",
    "    x_develop_cal[i-1] = x_develop_cal[i]\n",
    "    y_develop_cal[i-1] = y_develop_cal[i]\n",
    "x_develop_cal = x_develop_cal[:-1]\n",
    "y_develop_cal = y_develop_cal[:-1]\n",
    "#print(x_develop_cal)\n",
    "#print(x_develop)\n",
    "print(get_result(x_develop[num],x_develop_cal,y_develop_cal,20,1))\n"
   ]
  },
  {
   "cell_type": "markdown",
   "metadata": {},
   "source": [
    "Calculate accuracy by iterating all of the development data point"
   ]
  },
  {
   "cell_type": "code",
   "execution_count": 29,
   "metadata": {},
   "outputs": [
    {
     "name": "stdout",
     "output_type": "stream",
     "text": [
      "115.0\n",
      "120\n",
      "0.9583333333333334\n"
     ]
    }
   ],
   "source": [
    "#get the accuracy for a case of value of k and one type of deistance_caculation method, copyright belongs to Yipu Qin\n",
    "right_num = 0.0000\n",
    "result_label = []\n",
    "result_develop = 0.0000\n",
    "for i in range(len(x_develop)):\n",
    "    x_develop_cal = copy.deepcopy(x_develop) # use to calculate\n",
    "    y_develop_cal = copy.deepcopy(y_develop) # use to calculate\n",
    "    for j in range(i + 1, len(x_develop_cal)):\n",
    "        x_develop_cal[j-1] = x_develop_cal[j]\n",
    "        y_develop_cal[j-1] = y_develop_cal[j]\n",
    "    x_develop_cal = x_develop_cal[:-1]\n",
    "    y_develop_cal = y_develop_cal[:-1]\n",
    "    result_label =get_result(x_develop[i],x_develop_cal,y_develop_cal,1,1)\n",
    "    if result_label == y_develop[i]:\n",
    "        right_num = right_num + 1\n",
    "\n",
    "print(right_num)\n",
    "print(len(x_develop))\n",
    "result_develop = right_num/len(x_develop)\n",
    "#at first try, k = 1, method is e_distance, the accuracy is 0.9583333333333334\n",
    "print(result_develop)\n"
   ]
  },
  {
   "cell_type": "markdown",
   "metadata": {},
   "source": [
    "Find optimal hyperparameters\n",
    "and\n",
    "Draw bar charts for accuracy"
   ]
  },
  {
   "cell_type": "code",
   "execution_count": 26,
   "metadata": {},
   "outputs": [
    {
     "name": "stdout",
     "output_type": "stream",
     "text": [
      "[0.9583333333333334, 0.9583333333333334, 0.975, 0.975, 0.975, 0.975, 0.9666666666666667, 0.975, 0.9666666666666667, 0.975, 0.975, 0.975, 0.9666666666666667, 0.975, 0.9666666666666667, 0.9666666666666667, 0.9666666666666667, 0.9666666666666667, 0.9666666666666667, 0.9666666666666667]\n",
      "20\n",
      "So for the euclidean distance, the best k is :\n",
      "3\n",
      "the best accuracy is:\n",
      "0.975\n",
      "[0.9416666666666667, 0.9416666666666667, 0.9416666666666667, 0.9416666666666667, 0.9583333333333334, 0.95, 0.9583333333333334, 0.9583333333333334, 0.95, 0.95, 0.9416666666666667, 0.9666666666666667, 0.9666666666666667, 0.9666666666666667, 0.9666666666666667, 0.9583333333333334, 0.9416666666666667, 0.9416666666666667, 0.9416666666666667, 0.9333333333333333]\n",
      "20\n",
      "For the normolized euclidean distance, the best k is :\n",
      "12\n",
      "The best accuracy is:\n",
      "0.9666666666666667\n",
      "[0.9666666666666667, 0.9916666666666667, 0.9916666666666667, 0.9583333333333334, 0.975, 0.975, 0.9666666666666667, 0.9833333333333333, 0.975, 0.9666666666666667, 0.975, 0.975, 0.975, 0.9833333333333333, 0.9833333333333333, 0.9833333333333333, 0.9833333333333333, 0.9833333333333333, 0.9833333333333333, 0.975]\n",
      "20\n",
      "For the cosine similirity, the best k is :\n",
      "2\n",
      "The best accuracy is:\n",
      "0.9916666666666667\n"
     ]
    }
   ],
   "source": [
    "#get the most accuracy when use euclidean method with a value of k\n",
    "accuracy_e_dist = []\n",
    "for k in range(1,21):\n",
    "    right_num = 0.0000\n",
    "    result_label = []\n",
    "    result_develop = 0.0000\n",
    "    for i in range(len(x_develop)):\n",
    "        x_develop_cal = copy.deepcopy(x_develop) # use to calculate\n",
    "        y_develop_cal = copy.deepcopy(y_develop) # use to calculate\n",
    "        for j in range(i + 1, len(x_develop_cal)):\n",
    "            x_develop_cal[j-1] = x_develop_cal[j]\n",
    "            y_develop_cal[j-1] = y_develop_cal[j]\n",
    "        x_develop_cal = x_develop_cal[:-1]\n",
    "        y_develop_cal = y_develop_cal[:-1]\n",
    "        #print(x_develop[i])\n",
    "        #print(x_develop_cal)\n",
    "        #print(\"\\n\")\n",
    "        result_label =get_result(x_develop[i],x_develop_cal,y_develop_cal,k,1)\n",
    "        if result_label == y_develop[i]:\n",
    "            right_num = right_num + 1\n",
    "    #print(k)\n",
    "    #print(right_num)\n",
    "    #print(len(x_develop))\n",
    "    result_develop = right_num/len(x_develop)\n",
    "    accuracy_e_dist.append(result_develop)\n",
    "\n",
    "#get the most accuracy when use nomalized euclidean method with a value of k\n",
    "accuracy_n_e_dist = []\n",
    "for k in range(1,21):\n",
    "    right_num = 0.0000\n",
    "    result_label = []\n",
    "    result_develop = 0.0000\n",
    "    for i in range(len(x_develop)):\n",
    "        x_develop_cal = copy.deepcopy(x_develop) # use to calculate\n",
    "        y_develop_cal = copy.deepcopy(y_develop) # use to calculate\n",
    "        for j in range(i + 1, len(x_develop_cal)):\n",
    "            x_develop_cal[j-1] = x_develop_cal[j]\n",
    "            y_develop_cal[j-1] = y_develop_cal[j]\n",
    "        x_develop_cal = x_develop_cal[:-1]\n",
    "        y_develop_cal = y_develop_cal[:-1]\n",
    "        result_label =get_result(x_develop[i],x_develop_cal,y_develop_cal,k,2)\n",
    "        if result_label == y_develop[i]:\n",
    "            right_num = right_num + 1\n",
    "    #print(k)\n",
    "    #print(right_num)\n",
    "    #print(len(x_develop))\n",
    "    result_develop = right_num/len(x_develop)\n",
    "    accuracy_n_e_dist.append(result_develop)\n",
    "\n",
    "#get the most accuracy when use cosine similirity method with a value of k\n",
    "accuracy_cos_dist = []\n",
    "for k in range(1,21):\n",
    "    right_num = 0.0000\n",
    "    result_label = []\n",
    "    result_develop = 0.0000\n",
    "    for i in range(len(x_develop)):\n",
    "        x_develop_cal = copy.deepcopy(x_develop) # use to calculate\n",
    "        y_develop_cal = copy.deepcopy(y_develop) # use to calculate\n",
    "        for j in range(i + 1, len(x_develop_cal)):\n",
    "            x_develop_cal[j-1] = x_develop_cal[j]\n",
    "            y_develop_cal[j-1] = y_develop_cal[j]\n",
    "        x_develop_cal = x_develop_cal[:-1]\n",
    "        y_develop_cal = y_develop_cal[:-1]\n",
    "        result_label =get_result(x_develop[i],x_develop_cal,y_develop_cal,k,3)\n",
    "        if result_label == y_develop[i]:\n",
    "            right_num = right_num + 1\n",
    "    #print(k)\n",
    "    #print(right_num)\n",
    "    #print(len(x_develop))\n",
    "    result_develop = right_num/len(x_develop)\n",
    "    accuracy_cos_dist.append(result_develop)\n",
    "\n",
    "print(accuracy_e_dist)\n",
    "print(len(accuracy_e_dist))\n",
    "print (\"So for the euclidean distance, the best k is :\" )\n",
    "print(accuracy_e_dist.index(max(accuracy_e_dist)) + 1)\n",
    "print(\"the best accuracy is:\")\n",
    "print((max(accuracy_e_dist)))\n",
    "print(accuracy_n_e_dist)\n",
    "print(len(accuracy_n_e_dist))\n",
    "print (\"For the normolized euclidean distance, the best k is :\" )\n",
    "print(accuracy_n_e_dist.index(max(accuracy_n_e_dist)) + 1)\n",
    "print(\"The best accuracy is:\")\n",
    "print((max(accuracy_n_e_dist)))\n",
    "      \n",
    "print(accuracy_cos_dist)\n",
    "print(len(accuracy_cos_dist))\n",
    "print (\"For the cosine similirity, the best k is :\" )\n",
    "print(accuracy_cos_dist.index(max(accuracy_cos_dist)) + 1)\n",
    "print(\"The best accuracy is:\")\n",
    "print((max(accuracy_cos_dist)))\n"
   ]
  },
  {
   "cell_type": "markdown",
   "metadata": {},
   "source": [
    "So we get:\n",
    "\n",
    "For the euclidean distance, the best k is:3\n",
    "the best accuracy is:0.975\n",
    "\n",
    "For the normolized euclidean distance, the best k is:12\n",
    "The best accuracy is:0.9666666666666667\n",
    "\n",
    "For the cosine similirity, the best k is:2\n",
    "The best accuracy is:0.9916666666666667\n",
    "\n",
    "For all cases in develop data set, the optimal hyperparameters is use the cosine similirity and k = 2, and the accuracy is 0.9916666666666667"
   ]
  },
  {
   "cell_type": "markdown",
   "metadata": {},
   "source": [
    "Draw bar charts for  accuracy of 60 cases"
   ]
  },
  {
   "cell_type": "code",
   "execution_count": 20,
   "metadata": {},
   "outputs": [
    {
     "data": {
      "image/png": "[encoded data removed]",
      "text/plain": [
       "<Figure size 1440x576 with 1 Axes>"
      ]
     },
     "metadata": {
      "needs_background": "light"
     },
     "output_type": "display_data"
    }
   ],
   "source": [
    "\n",
    "name_list = range(1,21)\n",
    "plt.figure(figsize=(20,8))\n",
    "plt.ylim(0.9,1)\n",
    "plt.ylabel(\"accuracy\")\n",
    "plt.xlabel(\"value of k\")\n",
    "plt.title(\"The accuracy when using euclidean distance\") \n",
    "p1 = plt.bar(x = range(len(accuracy_e_dist)), height = accuracy_e_dist, width = 0.3, alpha = 0.9, color = \"blue\", tick_label = name_list,label = \"euclidean\")\n",
    "p2 = plt.bar(x = [i+0.3 for i in range(len(accuracy_n_e_dist))], height = accuracy_n_e_dist, width = 0.3, alpha = 0.9, color = \"green\", tick_label = name_list, label = \"nomalized euclidean\")\n",
    "p3 = plt.bar(x = [i+0.6 for i in range(len(accuracy_cos_dist))], height = accuracy_cos_dist, width = 0.3, alpha = 0.9, color = \"red\", tick_label = name_list, label = \"cosine similirity\")\n",
    "plt.legend()\n",
    "plt.show()"
   ]
  },
  {
   "cell_type": "markdown",
   "metadata": {},
   "source": [
    "d.Using the test dataset\n",
    "Use the optimal hyperparameters you found in the step c, and use it to calculate the final accuracy.  "
   ]
  },
  {
   "cell_type": "code",
   "execution_count": 21,
   "metadata": {},
   "outputs": [
    {
     "name": "stdout",
     "output_type": "stream",
     "text": [
      "The final accuracy is :\n",
      "0.9666666666666667\n"
     ]
    }
   ],
   "source": [
    "#get the most accuracy when use  the optimal hyperparameters you found in the step c\n",
    "\n",
    "accuracy_final = 0.00000\n",
    "\n",
    "right_num = 0.0000\n",
    "result_label = []\n",
    "result_develop = 0.0000\n",
    "for i in range(len(x_test)):\n",
    "    result_label =get_result(x_test[i],x_develop_cal,y_develop_cal,2,3)\n",
    "    if result_label == y_test[i]:\n",
    "        right_num = right_num + 1\n",
    "    #print(k)\n",
    "    #print(right_num)\n",
    "    #print(len(x_develop))\n",
    "result_test = right_num/len(x_test)\n",
    "accuracy_final=result_test\n",
    "\n",
    "\n",
    "print (\"The final accuracy is :\" )\n",
    "print(accuracy_final)\n"
   ]
  },
  {
   "cell_type": "markdown",
   "metadata": {},
   "source": [
    "The final accuracy is :0.9666666666666667"
   ]
  }
 ],
 "metadata": {
  "kernelspec": {
   "display_name": "Python 2",
   "language": "python",
   "name": "python2"
  },
  "language_info": {
   "codemirror_mode": {
    "name": "ipython",
    "version": 2
   },
   "file_extension": ".py",
   "mimetype": "text/x-python",
   "name": "python",
   "nbconvert_exporter": "python",
   "pygments_lexer": "ipython2",
   "version": "2.7.17"
  }
 },
 "nbformat": 4,
 "nbformat_minor": 4
}
